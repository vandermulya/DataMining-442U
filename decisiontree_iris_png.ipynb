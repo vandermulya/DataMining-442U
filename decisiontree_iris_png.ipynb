{
  "nbformat": 4,
  "nbformat_minor": 0,
  "metadata": {
    "colab": {
      "provenance": []
    },
    "kernelspec": {
      "name": "python3",
      "display_name": "Python 3"
    },
    "language_info": {
      "name": "python"
    }
  },
  "cells": [
    {
      "cell_type": "code",
      "execution_count": 1,
      "metadata": {
        "id": "JMROORr8ydHF"
      },
      "outputs": [],
      "source": [
        "# Import Library Scikit Learn untuk Decision Tree, Dataset & Matplotlib\n",
        "from sklearn.tree import DecisionTreeClassifier\n",
        "from sklearn import datasets\n",
        "import matplotlib.pyplot as plt"
      ]
    },
    {
      "cell_type": "code",
      "source": [
        "# Load Dataset Iris dari Library Scikit Learn\n",
        "iris = datasets.load_iris()\n",
        "features = iris['data']\n",
        "target = iris['target']\n",
        "\n",
        "# print(features)\n",
        "# len(features)"
      ],
      "metadata": {
        "id": "Ou7G8ckR0DOE"
      },
      "execution_count": 5,
      "outputs": []
    },
    {
      "cell_type": "code",
      "source": [
        "# Membuat Objek Model Decision Tree\n",
        "decisiontree = DecisionTreeClassifier(random_state = 0, max_depth = None, \n",
        "                                      min_samples_leaf = 1, min_samples_split = 2, \n",
        "                                      min_weight_fraction_leaf = 0, max_leaf_nodes = None, \n",
        "                                      min_impurity_decrease = 0)"
      ],
      "metadata": {
        "id": "U_Qu8nMa0iod"
      },
      "execution_count": 6,
      "outputs": []
    },
    {
      "cell_type": "code",
      "source": [
        "# Mentraining Model Decision Tree\n",
        "model = decisiontree.fit(features, target)"
      ],
      "metadata": {
        "id": "PxZS85dS16YN"
      },
      "execution_count": 7,
      "outputs": []
    },
    {
      "cell_type": "code",
      "source": [
        "# Mengambil sampel observasi & membuat prediksi\n",
        "# Sampel berupa data dimensi kelopak\n",
        "# Fungsi predict() => memeriksa kelas yang dimilikinya\n",
        "# Fungsi predict_proba() => memeriksa probabilitas kelas dari prediksi tersebut\n",
        "observation = [[5, 4, 3, 2]]\n",
        "model.predict(observation)\n",
        "model.predict_proba(observation)"
      ],
      "metadata": {
        "colab": {
          "base_uri": "https://localhost:8080/"
        },
        "id": "iLxuqTmF2QBJ",
        "outputId": "5c578a81-d18b-4ad3-edae-74644c32180d"
      },
      "execution_count": 8,
      "outputs": [
        {
          "output_type": "execute_result",
          "data": {
            "text/plain": [
              "array([[0., 1., 0.]])"
            ]
          },
          "metadata": {},
          "execution_count": 8
        }
      ]
    },
    {
      "cell_type": "code",
      "source": [
        "# Membuat grafik visualisasi Decision Tree\n",
        "import pydotplus\n",
        "from sklearn import tree\n",
        "dot_data = tree.export_graphviz(decisiontree, out_file = None, \n",
        "                                feature_names = iris['feature_names'], class_names = iris['target_names'])\n",
        "from IPython.display import Image\n",
        "graph = pydotplus.graph_from_dot_data(dot_data)\n",
        "Image(graph.create_png())\n",
        "graph.write_png('iris.png')"
      ],
      "metadata": {
        "colab": {
          "base_uri": "https://localhost:8080/"
        },
        "id": "FguS6RPU28Ti",
        "outputId": "da4b8b2b-7ecb-4173-bb83-3ce0c4703e0d"
      },
      "execution_count": 9,
      "outputs": [
        {
          "output_type": "execute_result",
          "data": {
            "text/plain": [
              "True"
            ]
          },
          "metadata": {},
          "execution_count": 9
        }
      ]
    }
  ]
}