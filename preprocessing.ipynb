{
  "nbformat": 4,
  "nbformat_minor": 0,
  "metadata": {
    "colab": {
      "provenance": []
    },
    "kernelspec": {
      "name": "python3",
      "display_name": "Python 3"
    },
    "language_info": {
      "name": "python"
    }
  },
  "cells": [
    {
      "cell_type": "code",
      "execution_count": 22,
      "metadata": {
        "id": "K0mbXqVyksny"
      },
      "outputs": [],
      "source": [
        "import numpy as np\n",
        "import matplotlib.pyplot as plt\n",
        "import pandas as pd"
      ]
    },
    {
      "cell_type": "markdown",
      "source": [
        "Numpy merupakan library python yang digunakan untuk komputasi matriks. Matplotlib merupakan library python untuk presentasi data berupa grafik atau plot....."
      ],
      "metadata": {
        "id": "BaTEvIp8oGu9"
      }
    },
    {
      "cell_type": "code",
      "source": [
        "dataset = pd.read_csv('Data-Tugas3_DM.csv')\n",
        "x = dataset.iloc[:, :-1].values\n",
        "y = dataset.iloc[:, -1].values"
      ],
      "metadata": {
        "id": "kVaWEXUvooq9"
      },
      "execution_count": 23,
      "outputs": []
    },
    {
      "cell_type": "code",
      "source": [
        "print(x)"
      ],
      "metadata": {
        "colab": {
          "base_uri": "https://localhost:8080/"
        },
        "id": "I0_xpog6poyM",
        "outputId": "7fef9336-cbf8-41f8-f573-8835a0235df7"
      },
      "execution_count": 24,
      "outputs": [
        {
          "output_type": "stream",
          "name": "stdout",
          "text": [
            "[['France' 44.0 72000.0]\n",
            " ['Spain' 27.0 48000.0]\n",
            " ['Germany' 30.0 54000.0]\n",
            " ['Spain' 38.0 61000.0]\n",
            " ['Germany' 40.0 nan]\n",
            " ['France' 35.0 58000.0]\n",
            " ['Spain' nan 52000.0]\n",
            " ['France' 48.0 79000.0]\n",
            " ['Germany' 50.0 83000.0]\n",
            " ['France' 37.0 67000.0]\n",
            " ['Japan' 48.0 nan]\n",
            " ['India' nan 78000.0]\n",
            " ['UAE' 50.0 28000.0]\n",
            " ['Australia' nan 56000.0]\n",
            " ['Korea' 39.0 44000.0]]\n"
          ]
        }
      ]
    },
    {
      "cell_type": "code",
      "source": [
        "print(y)"
      ],
      "metadata": {
        "colab": {
          "base_uri": "https://localhost:8080/"
        },
        "id": "ckX9kfohp1ZT",
        "outputId": "4754abf0-49c7-45ca-fd0b-cbc6a03aa4b5"
      },
      "execution_count": 25,
      "outputs": [
        {
          "output_type": "stream",
          "name": "stdout",
          "text": [
            "['No' 'Yes' 'No' 'No' 'Yes' 'Yes' 'No' 'Yes' 'No' 'Yes' 'No' 'Yes' 'Yes'\n",
            " 'Yes' 'No']\n"
          ]
        }
      ]
    },
    {
      "cell_type": "code",
      "source": [
        "from sklearn.impute import SimpleImputer\n",
        "imputer = SimpleImputer(missing_values=np.nan, strategy='mean')\n",
        "imputer.fit(x[:, 1:3])\n",
        "x[:, 1:3] = imputer.transform(x[:, 1:3])"
      ],
      "metadata": {
        "id": "kY9wL_sbp9dK"
      },
      "execution_count": 26,
      "outputs": []
    },
    {
      "cell_type": "code",
      "source": [
        "print(x)"
      ],
      "metadata": {
        "colab": {
          "base_uri": "https://localhost:8080/"
        },
        "id": "ZDIYEQWtrIkJ",
        "outputId": "cac1bd97-7b4b-45b7-894d-25267e16f047"
      },
      "execution_count": 27,
      "outputs": [
        {
          "output_type": "stream",
          "name": "stdout",
          "text": [
            "[['France' 44.0 72000.0]\n",
            " ['Spain' 27.0 48000.0]\n",
            " ['Germany' 30.0 54000.0]\n",
            " ['Spain' 38.0 61000.0]\n",
            " ['Germany' 40.0 60000.0]\n",
            " ['France' 35.0 58000.0]\n",
            " ['Spain' 40.5 52000.0]\n",
            " ['France' 48.0 79000.0]\n",
            " ['Germany' 50.0 83000.0]\n",
            " ['France' 37.0 67000.0]\n",
            " ['Japan' 48.0 60000.0]\n",
            " ['India' 40.5 78000.0]\n",
            " ['UAE' 50.0 28000.0]\n",
            " ['Australia' 40.5 56000.0]\n",
            " ['Korea' 39.0 44000.0]]\n"
          ]
        }
      ]
    },
    {
      "cell_type": "code",
      "source": [
        "from sklearn.compose import ColumnTransformer\n",
        "from sklearn.preprocessing import OneHotEncoder\n",
        "ct = ColumnTransformer(transformers=[('encoder', OneHotEncoder(), [0])], remainder='passthrough')\n",
        "x = np.array(ct.fit_transform(x))"
      ],
      "metadata": {
        "id": "h7U7dJnWrfLc"
      },
      "execution_count": 28,
      "outputs": []
    },
    {
      "cell_type": "code",
      "source": [
        "print(x)"
      ],
      "metadata": {
        "colab": {
          "base_uri": "https://localhost:8080/"
        },
        "id": "_p-66GRAs1v4",
        "outputId": "2606f18a-9e2b-4d46-dd8d-20bb111d5a2e"
      },
      "execution_count": 29,
      "outputs": [
        {
          "output_type": "stream",
          "name": "stdout",
          "text": [
            "[[0.0 1.0 0.0 0.0 0.0 0.0 0.0 0.0 44.0 72000.0]\n",
            " [0.0 0.0 0.0 0.0 0.0 0.0 1.0 0.0 27.0 48000.0]\n",
            " [0.0 0.0 1.0 0.0 0.0 0.0 0.0 0.0 30.0 54000.0]\n",
            " [0.0 0.0 0.0 0.0 0.0 0.0 1.0 0.0 38.0 61000.0]\n",
            " [0.0 0.0 1.0 0.0 0.0 0.0 0.0 0.0 40.0 60000.0]\n",
            " [0.0 1.0 0.0 0.0 0.0 0.0 0.0 0.0 35.0 58000.0]\n",
            " [0.0 0.0 0.0 0.0 0.0 0.0 1.0 0.0 40.5 52000.0]\n",
            " [0.0 1.0 0.0 0.0 0.0 0.0 0.0 0.0 48.0 79000.0]\n",
            " [0.0 0.0 1.0 0.0 0.0 0.0 0.0 0.0 50.0 83000.0]\n",
            " [0.0 1.0 0.0 0.0 0.0 0.0 0.0 0.0 37.0 67000.0]\n",
            " [0.0 0.0 0.0 0.0 1.0 0.0 0.0 0.0 48.0 60000.0]\n",
            " [0.0 0.0 0.0 1.0 0.0 0.0 0.0 0.0 40.5 78000.0]\n",
            " [0.0 0.0 0.0 0.0 0.0 0.0 0.0 1.0 50.0 28000.0]\n",
            " [1.0 0.0 0.0 0.0 0.0 0.0 0.0 0.0 40.5 56000.0]\n",
            " [0.0 0.0 0.0 0.0 0.0 1.0 0.0 0.0 39.0 44000.0]]\n"
          ]
        }
      ]
    },
    {
      "cell_type": "code",
      "source": [
        "from sklearn.preprocessing import LabelEncoder\n",
        "le = LabelEncoder()\n",
        "y = le.fit_transform(y)"
      ],
      "metadata": {
        "id": "q3PV1uGCtDjD"
      },
      "execution_count": 30,
      "outputs": []
    },
    {
      "cell_type": "code",
      "source": [
        "print(y)"
      ],
      "metadata": {
        "colab": {
          "base_uri": "https://localhost:8080/"
        },
        "id": "l5WjlSetta7e",
        "outputId": "b05b8f30-b682-4155-a2e6-4546112656f6"
      },
      "execution_count": 31,
      "outputs": [
        {
          "output_type": "stream",
          "name": "stdout",
          "text": [
            "[0 1 0 0 1 1 0 1 0 1 0 1 1 1 0]\n"
          ]
        }
      ]
    },
    {
      "cell_type": "code",
      "source": [
        "from sklearn.model_selection import train_test_split\n",
        "x_train, x_test, y_train, y_test = train_test_split(x, y, test_size=0.2, random_state=1)"
      ],
      "metadata": {
        "id": "o_Uu-OKFtiho"
      },
      "execution_count": 32,
      "outputs": []
    },
    {
      "cell_type": "code",
      "source": [
        "print(x_train)"
      ],
      "metadata": {
        "colab": {
          "base_uri": "https://localhost:8080/"
        },
        "id": "vmBFpoKtuFsD",
        "outputId": "2f77a279-6b69-4b75-daed-09fecff6fe8f"
      },
      "execution_count": 33,
      "outputs": [
        {
          "output_type": "stream",
          "name": "stdout",
          "text": [
            "[[0.0 0.0 1.0 0.0 0.0 0.0 0.0 0.0 30.0 54000.0]\n",
            " [0.0 0.0 0.0 0.0 1.0 0.0 0.0 0.0 48.0 60000.0]\n",
            " [0.0 0.0 1.0 0.0 0.0 0.0 0.0 0.0 40.0 60000.0]\n",
            " [0.0 0.0 0.0 0.0 0.0 0.0 1.0 0.0 27.0 48000.0]\n",
            " [1.0 0.0 0.0 0.0 0.0 0.0 0.0 0.0 40.5 56000.0]\n",
            " [0.0 1.0 0.0 0.0 0.0 0.0 0.0 0.0 44.0 72000.0]\n",
            " [0.0 0.0 0.0 0.0 0.0 1.0 0.0 0.0 39.0 44000.0]\n",
            " [0.0 1.0 0.0 0.0 0.0 0.0 0.0 0.0 37.0 67000.0]\n",
            " [0.0 0.0 1.0 0.0 0.0 0.0 0.0 0.0 50.0 83000.0]\n",
            " [0.0 0.0 0.0 0.0 0.0 0.0 0.0 1.0 50.0 28000.0]\n",
            " [0.0 0.0 0.0 1.0 0.0 0.0 0.0 0.0 40.5 78000.0]\n",
            " [0.0 1.0 0.0 0.0 0.0 0.0 0.0 0.0 35.0 58000.0]]\n"
          ]
        }
      ]
    },
    {
      "cell_type": "code",
      "source": [
        "print(x_test)"
      ],
      "metadata": {
        "colab": {
          "base_uri": "https://localhost:8080/"
        },
        "id": "PSX8A1lduMmv",
        "outputId": "e1883c37-85e7-4c4a-b6d3-8691ea684235"
      },
      "execution_count": 34,
      "outputs": [
        {
          "output_type": "stream",
          "name": "stdout",
          "text": [
            "[[0.0 0.0 0.0 0.0 0.0 0.0 1.0 0.0 38.0 61000.0]\n",
            " [0.0 1.0 0.0 0.0 0.0 0.0 0.0 0.0 48.0 79000.0]\n",
            " [0.0 0.0 0.0 0.0 0.0 0.0 1.0 0.0 40.5 52000.0]]\n"
          ]
        }
      ]
    },
    {
      "cell_type": "code",
      "source": [
        "print(y_train)"
      ],
      "metadata": {
        "colab": {
          "base_uri": "https://localhost:8080/"
        },
        "id": "Ckr1d0OguSPy",
        "outputId": "fe2ee928-e60c-48a1-865f-6793946ddb05"
      },
      "execution_count": 35,
      "outputs": [
        {
          "output_type": "stream",
          "name": "stdout",
          "text": [
            "[0 0 1 1 1 0 0 1 0 1 1 1]\n"
          ]
        }
      ]
    },
    {
      "cell_type": "code",
      "source": [
        "print(y_test)"
      ],
      "metadata": {
        "colab": {
          "base_uri": "https://localhost:8080/"
        },
        "id": "n7W7bVlTuXBN",
        "outputId": "9b3ce86c-6de9-4ae5-c623-7dd7ccd0fa93"
      },
      "execution_count": 36,
      "outputs": [
        {
          "output_type": "stream",
          "name": "stdout",
          "text": [
            "[0 1 0]\n"
          ]
        }
      ]
    },
    {
      "cell_type": "code",
      "source": [
        "from sklearn.preprocessing import StandardScaler\n",
        "sc = StandardScaler()\n",
        "x_train[:, 3:] = sc.fit_transform(x_train[:, 3:])\n",
        "x_test[:, 3:] = sc.transform(x_test[:, 3:])"
      ],
      "metadata": {
        "id": "G-gGpRaZu-ap"
      },
      "execution_count": 37,
      "outputs": []
    },
    {
      "cell_type": "code",
      "source": [
        "print(x_train)"
      ],
      "metadata": {
        "colab": {
          "base_uri": "https://localhost:8080/"
        },
        "id": "-_JKZ-RkvuGg",
        "outputId": "db3283b6-ca89-4c93-e380-69b58580141b"
      },
      "execution_count": 38,
      "outputs": [
        {
          "output_type": "stream",
          "name": "stdout",
          "text": [
            "[[0.0 0.0 1.0 -0.30151134457776363 -0.3015113445777637\n",
            "  -0.30151134457776363 -0.30151134457776363 -0.30151134457776363\n",
            "  -1.4448855601907118 -0.3454442679267334]\n",
            " [0.0 0.0 0.0 -0.30151134457776363 3.3166247903554007\n",
            "  -0.30151134457776363 -0.30151134457776363 -0.30151134457776363\n",
            "  1.13441428279436 0.06908885358534668]\n",
            " [0.0 0.0 1.0 -0.30151134457776363 -0.3015113445777637\n",
            "  -0.30151134457776363 -0.30151134457776363 -0.30151134457776363\n",
            "  -0.01194120297678308 0.06908885358534668]\n",
            " [0.0 0.0 0.0 -0.30151134457776363 -0.3015113445777637\n",
            "  -0.30151134457776363 3.3166247903554 -0.30151134457776363\n",
            "  -1.8747688673548906 -0.7599773894388134]\n",
            " [1.0 0.0 0.0 -0.30151134457776363 -0.3015113445777637\n",
            "  -0.30151134457776363 -0.30151134457776363 -0.30151134457776363\n",
            "  0.05970601488391336 -0.20726656075604002]\n",
            " [0.0 1.0 0.0 -0.30151134457776363 -0.3015113445777637\n",
            "  -0.30151134457776363 -0.30151134457776363 -0.30151134457776363\n",
            "  0.5612365399087884 0.8981550966095069]\n",
            " [0.0 0.0 0.0 -0.30151134457776363 -0.3015113445777637 3.3166247903554\n",
            "  -0.30151134457776363 -0.30151134457776363 -0.15523563869817594\n",
            "  -1.0363328037802002]\n",
            " [0.0 1.0 0.0 -0.30151134457776363 -0.3015113445777637\n",
            "  -0.30151134457776363 -0.30151134457776363 -0.30151134457776363\n",
            "  -0.4418245101409617 0.5527108286827734]\n",
            " [0.0 0.0 1.0 -0.30151134457776363 -0.3015113445777637\n",
            "  -0.30151134457776363 -0.30151134457776363 -0.30151134457776363\n",
            "  1.4210031542371457 1.6581324860483202]\n",
            " [0.0 0.0 0.0 -0.30151134457776363 -0.3015113445777637\n",
            "  -0.30151134457776363 -0.30151134457776363 3.3166247903554\n",
            "  1.4210031542371457 -2.141754461145747]\n",
            " [0.0 0.0 0.0 3.3166247903554 -0.3015113445777637 -0.30151134457776363\n",
            "  -0.30151134457776363 -0.30151134457776363 0.05970601488391336\n",
            "  1.3126882181215869]\n",
            " [0.0 1.0 0.0 -0.30151134457776363 -0.3015113445777637\n",
            "  -0.30151134457776363 -0.30151134457776363 -0.30151134457776363\n",
            "  -0.7284133815837475 -0.06908885358534668]]\n"
          ]
        }
      ]
    },
    {
      "cell_type": "code",
      "source": [
        "print(x_test)"
      ],
      "metadata": {
        "colab": {
          "base_uri": "https://localhost:8080/"
        },
        "id": "kyVZEPQiv3cx",
        "outputId": "1a3356d1-5ef6-4e5f-cc6a-c301803519b4"
      },
      "execution_count": 39,
      "outputs": [
        {
          "output_type": "stream",
          "name": "stdout",
          "text": [
            "[[0.0 0.0 0.0 -0.30151134457776363 -0.3015113445777637\n",
            "  -0.30151134457776363 3.3166247903554 -0.30151134457776363\n",
            "  -0.29853007441956886 0.13817770717069336]\n",
            " [0.0 1.0 0.0 -0.30151134457776363 -0.3015113445777637\n",
            "  -0.30151134457776363 -0.30151134457776363 -0.30151134457776363\n",
            "  1.13441428279436 1.3817770717069335]\n",
            " [0.0 0.0 0.0 -0.30151134457776363 -0.3015113445777637\n",
            "  -0.30151134457776363 3.3166247903554 -0.30151134457776363\n",
            "  0.05970601488391336 -0.48362197509742677]]\n"
          ]
        }
      ]
    }
  ]
}