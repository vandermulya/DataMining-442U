{
  "nbformat": 4,
  "nbformat_minor": 0,
  "metadata": {
    "colab": {
      "provenance": []
    },
    "kernelspec": {
      "name": "python3",
      "display_name": "Python 3"
    },
    "language_info": {
      "name": "python"
    }
  },
  "cells": [
    {
      "cell_type": "code",
      "execution_count": 1,
      "metadata": {
        "id": "usz2ro4m5YAn"
      },
      "outputs": [],
      "source": [
        "import numpy as np\n",
        "import pandas as pd\n",
        "from sklearn import tree"
      ]
    },
    {
      "cell_type": "code",
      "source": [
        "irisDataset = pd.read_csv('Dataset_Iris-Tugas7_DM.csv', delimiter = ';', \n",
        "                          header = 0)\n",
        "irisDataset['Species'] = pd.factorize(irisDataset.Species)[0]\n",
        "irisDataset = irisDataset.drop(labels = \"Id\", axis = 1)\n",
        "\n",
        "# irisDataset = irisDataset.as_matrix()\n",
        "irisDataset = irisDataset.to_numpy()"
      ],
      "metadata": {
        "id": "5rIn0g-K8sC4"
      },
      "execution_count": 3,
      "outputs": []
    },
    {
      "cell_type": "code",
      "source": [
        "dataTraining = np.concatenate((irisDataset[0:40, :], irisDataset[50:90, :]), \n",
        "                              axis = 0)\n",
        "dataTesting = np.concatenate((irisDataset[40:50, :], irisDataset[90:100, :]), \n",
        "                             axis = 0)\n",
        "\n",
        "inputTraining = dataTraining[:, 0:4]\n",
        "inputTesting = dataTesting[:, 0:4]\n",
        "labelTraining = dataTraining[:, 4]\n",
        "labelTesting = dataTesting[:, 4]"
      ],
      "metadata": {
        "id": "A69Sz1Yf97jH"
      },
      "execution_count": 4,
      "outputs": []
    },
    {
      "cell_type": "code",
      "source": [
        "model = tree.DecisionTreeClassifier()\n",
        "model = model.fit(inputTraining, labelTraining)\n",
        "\n",
        "hasilPrediksi = model.predict(inputTesting)\n",
        "print(\"Label sebenarnya => \", labelTesting)\n",
        "print(\"Hasil prediksi   => \", hasilPrediksi)\n",
        "\n",
        "prediksiBenar = (hasilPrediksi == labelTesting).sum()\n",
        "prediksiSalah = (hasilPrediksi != labelTesting).sum()\n",
        "\n",
        "print(\"Prediksi Benar   => \", prediksiBenar, \"data.\")\n",
        "print(\"Prediksi Salah   => \", prediksiSalah, \"data.\")\n",
        "print(\"Akurasi          => \", prediksiBenar / (prediksiBenar + prediksiSalah) * 100, \"%\")"
      ],
      "metadata": {
        "colab": {
          "base_uri": "https://localhost:8080/"
        },
        "id": "CgbppUr1_yss",
        "outputId": "49b496d3-69f0-43bb-99f8-a3248c166618"
      },
      "execution_count": 7,
      "outputs": [
        {
          "output_type": "stream",
          "name": "stdout",
          "text": [
            "Label sebenarnya =>  [0. 0. 0. 0. 0. 0. 0. 0. 0. 0. 1. 1. 1. 1. 1. 1. 1. 1. 1. 1.]\n",
            "Hasil prediksi   =>  [0. 0. 0. 0. 0. 0. 0. 0. 0. 0. 1. 1. 1. 1. 1. 1. 1. 1. 1. 1.]\n",
            "Prediksi Benar   =>  20 data.\n",
            "Prediksi Salah   =>  0 data.\n",
            "Akurasi          =>  100.0 %\n"
          ]
        }
      ]
    }
  ]
}